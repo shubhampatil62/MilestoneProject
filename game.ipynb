{
 "cells": [
  {
   "cell_type": "markdown",
   "id": "0a87c499-7314-4b2f-881b-6b42de61db58",
   "metadata": {},
   "source": [
    "# TIK TOK TOE GAME:"
   ]
  },
  {
   "cell_type": "markdown",
   "id": "ea884a22-d612-4408-9624-6e3fd13974ff",
   "metadata": {},
   "source": [
    "##### 01. The game board should be three squares by three squares.\n",
    "##### 02. The users should choose their markers, for instance, X and O.\n",
    "##### 03. The game should allow the first player to mark ‘X’ in any one of the squares.\n",
    "##### 04. The game should allow the second player to mark ‘O’ in any of the unmarked squares.\n",
    "##### 05. Players should each take turns marking ‘X’s and ‘O’s until there are no unmarked squares left.\n",
    "##### 06. In the case where at the end, no row, column, or diagonal has the same marker, the game is a draw.\n",
    "##### 07. If any row, column, or diagonal has the same markers, in the end, the player who marked them wins           \n",
    "#####     the game.\n"
   ]
  },
  {
   "cell_type": "code",
   "execution_count": 2,
   "id": "91b3d272-55d6-4d2d-815d-c89bf0c95cac",
   "metadata": {},
   "outputs": [
    {
     "name": "stderr",
     "output_type": "stream",
     "text": [
      "<>:43: SyntaxWarning: \"is\" with a literal. Did you mean \"==\"?\n",
      "<>:56: SyntaxWarning: \"is\" with a literal. Did you mean \"==\"?\n",
      "<>:43: SyntaxWarning: \"is\" with a literal. Did you mean \"==\"?\n",
      "<>:56: SyntaxWarning: \"is\" with a literal. Did you mean \"==\"?\n",
      "C:\\Users\\sravh\\AppData\\Local\\Temp/ipykernel_10064/3173841840.py:43: SyntaxWarning: \"is\" with a literal. Did you mean \"==\"?\n",
      "  if winner is \"nobody\":\n",
      "C:\\Users\\sravh\\AppData\\Local\\Temp/ipykernel_10064/3173841840.py:56: SyntaxWarning: \"is\" with a literal. Did you mean \"==\"?\n",
      "  if winner is \"nobody\":\n"
     ]
    },
    {
     "name": "stdout",
     "output_type": "stream",
     "text": [
      "\n",
      "----------- WELCOME TO TIC TAC TOE ------------\n",
      "\n",
      "\n",
      "    |    |    \n",
      "----|----|-----\n",
      "    |    |    \n",
      "----|----|-----\n",
      "    |    |    \n",
      "\n"
     ]
    },
    {
     "name": "stdin",
     "output_type": "stream",
     "text": [
      "player 1 :  gaurav\n",
      "player 2 :  shubham\n"
     ]
    },
    {
     "name": "stdout",
     "output_type": "stream",
     "text": [
      "\n",
      "-------- Instructions ---------\n",
      "-> gaurav you will using X\n",
      "-> shubham you will using 0\n",
      "-> Turn starts from gaurav\n",
      "-> positions are like :-\n",
      "  1 |  2 |  3 \n",
      "----|----|----\n",
      "  4 |  5 |  6 \n",
      "----|----|----\n",
      "  7 |  8 |  9 \n",
      "-> press S to start the game\n"
     ]
    },
    {
     "name": "stdin",
     "output_type": "stream",
     "text": [
      " s\n"
     ]
    },
    {
     "name": "stdout",
     "output_type": "stream",
     "text": [
      "\n",
      "this is ur turn gaurav\n"
     ]
    },
    {
     "name": "stdin",
     "output_type": "stream",
     "text": [
      "Please Enter position :  1\n"
     ]
    },
    {
     "name": "stdout",
     "output_type": "stream",
     "text": [
      " X  |    |    \n",
      "----|----|-----\n",
      "    |    |    \n",
      "----|----|-----\n",
      "    |    |    \n",
      "\n",
      "this is ur turn shubham\n"
     ]
    },
    {
     "name": "stdin",
     "output_type": "stream",
     "text": [
      "Please Enter position :  5\n"
     ]
    },
    {
     "name": "stdout",
     "output_type": "stream",
     "text": [
      " X  |    |    \n",
      "----|----|-----\n",
      "    |  0 |    \n",
      "----|----|-----\n",
      "    |    |    \n",
      "\n",
      "this is ur turn gaurav\n"
     ]
    },
    {
     "name": "stdin",
     "output_type": "stream",
     "text": [
      "Please Enter position :  7\n"
     ]
    },
    {
     "name": "stdout",
     "output_type": "stream",
     "text": [
      " X  |    |    \n",
      "----|----|-----\n",
      "    |  0 |    \n",
      "----|----|-----\n",
      " X  |    |    \n",
      "\n",
      "this is ur turn shubham\n"
     ]
    },
    {
     "name": "stdin",
     "output_type": "stream",
     "text": [
      "Please Enter position :  3\n"
     ]
    },
    {
     "name": "stdout",
     "output_type": "stream",
     "text": [
      " X  |    | 0  \n",
      "----|----|-----\n",
      "    |  0 |    \n",
      "----|----|-----\n",
      " X  |    |    \n",
      "\n",
      "this is ur turn gaurav\n"
     ]
    },
    {
     "name": "stdin",
     "output_type": "stream",
     "text": [
      "Please Enter position :  4\n"
     ]
    },
    {
     "name": "stdout",
     "output_type": "stream",
     "text": [
      " X  |    | 0  \n",
      "----|----|-----\n",
      " X  |  0 |    \n",
      "----|----|-----\n",
      " X  |    |    \n",
      "\n",
      "\n",
      "Hurray !!, gaurav YOU WIN \n"
     ]
    }
   ],
   "source": [
    "# for display the tik tac toe board:\n",
    "def print_board(a):\n",
    "    print(\"\",a[1],\" | \",a[2],\"|\",a[3],\" \")\n",
    "    print(\"----|----|-----\")\n",
    "    print(\"\",a[4],\" | \",a[5],\"|\",a[6],\" \")\n",
    "    print(\"----|----|-----\")\n",
    "    print(\"\",a[7],\" | \",a[8],\"|\",a[9],\" \")\n",
    "    \n",
    "# for display the instruction of game\n",
    "def print_instructions():\n",
    "    print(\"\\n----------- WELCOME TO TIC TAC TOE ------------\\n\\n\")\n",
    "    print_board(pos)\n",
    "    print()\n",
    "    \n",
    "    players[0]=input(\"player 1 : \")\n",
    "    players[1]=input(\"player 2 : \")\n",
    "    \n",
    "    print(\"\\n-------- Instructions ---------\")\n",
    "    print(\"->\",players[0],\"you will using X\")\n",
    "    print(\"->\",players[1],\"you will using 0\")\n",
    "    print(\"-> Turn starts from\",players[0])\n",
    "    print(\"-> positions are like :-\")\n",
    "    print(\"  1 |  2 |  3 \")\n",
    "    print(\"----|----|----\")\n",
    "    print(\"  4 |  5 |  6 \")\n",
    "    print(\"----|----|----\")\n",
    "    print(\"  7 |  8 |  9 \")\n",
    "    print(\"-> press S to start the game\")\n",
    "    flag = input()\n",
    "    return flag\n",
    "\n",
    "# for start the game:\n",
    "def startgame():\n",
    "    turn=0\n",
    "    for i in range(9):\n",
    "        if turn % 2 == 0:\n",
    "            print(\"\\nthis is ur turn\",players[0])\n",
    "            p=int(input(\"Please Enter position : \"))\n",
    "            v='X'\n",
    "            pos[p]=v\n",
    "            print_board(pos)\n",
    "            winner = checkwin(v)\n",
    "            if winner is \"nobody\":\n",
    "                turn=1\n",
    "                continue\n",
    "            else:\n",
    "                print(\"\\n\\nHurray !!,\",players[0],\"YOU WIN \")\n",
    "                break\n",
    "        else:\n",
    "            print(\"\\nthis is ur turn\",players[1])\n",
    "            p=int(input(\"Please Enter position : \"))\n",
    "            v='0'\n",
    "            pos[p]=v\n",
    "            print_board(pos)\n",
    "            winner=checkwin(v)\n",
    "            if winner is \"nobody\":\n",
    "                turn=0\n",
    "                continue\n",
    "            else:\n",
    "                print(\"\\n\\nHurray !!,\",players[1],\"YOU WIN \")\n",
    "                break\n",
    "    else:\n",
    "        print(\"\\n\\nGame is Tie\")\n",
    "        \n",
    "## check for the winnner:\n",
    "def checkwin(v):\n",
    "    for i in winning_conditions:\n",
    "        if (pos[i[0]],pos[i[1]],pos[i[2]]) == (v,v,v):\n",
    "            winner = players[0]\n",
    "            break\n",
    "        elif (pos[i[0]],pos[i[1]],pos[i[2]]) == (v,v,v):\n",
    "            winner = players[1]\n",
    "            break\n",
    "    else:\n",
    "        winner = \"nobody\"\n",
    "    return winner\n",
    "# main code\n",
    "pos=['',' ',' ',' ',' ',' ',' ',' ',' ',' ']\n",
    "players=['','']\n",
    "winning_conditions=[(1,2,3),(4,5,6),(7,8,9),(1,4,7),(2,5,8),(3,6,9),(1,5,9),(3,5,7)]\n",
    "flag=print_instructions()\n",
    "if flag == 's' or flag == 'S':\n",
    "    startgame()\n",
    "else:\n",
    "    print(\"invalid Entry\")\n",
    "        "
   ]
  },
  {
   "cell_type": "code",
   "execution_count": null,
   "id": "643464aa-a795-4749-8246-4e3d47293598",
   "metadata": {},
   "outputs": [],
   "source": []
  }
 ],
 "metadata": {
  "kernelspec": {
   "display_name": "Python 3 (ipykernel)",
   "language": "python",
   "name": "python3"
  },
  "language_info": {
   "codemirror_mode": {
    "name": "ipython",
    "version": 3
   },
   "file_extension": ".py",
   "mimetype": "text/x-python",
   "name": "python",
   "nbconvert_exporter": "python",
   "pygments_lexer": "ipython3",
   "version": "3.9.7"
  }
 },
 "nbformat": 4,
 "nbformat_minor": 5
}
