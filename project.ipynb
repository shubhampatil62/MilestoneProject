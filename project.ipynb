{
 "cells": [
  {
   "cell_type": "markdown",
   "id": "88f5aa1d-9d52-4ada-9a92-4c1f568b84c1",
   "metadata": {},
   "source": [
    "# 1]. Numbers :"
   ]
  },
  {
   "cell_type": "markdown",
   "id": "a85735d4-e311-4165-b65c-3bd13e7ea40b",
   "metadata": {},
   "source": [
    "### Next Prime Number :\n",
    "\n",
    "- Have the program find prime numbers until the user chooses to stop asking for the next one."
   ]
  },
  {
   "cell_type": "code",
   "execution_count": null,
   "id": "bc07030a-5946-4ec3-a27d-ff18a4e400ae",
   "metadata": {},
   "outputs": [],
   "source": [
    "# Program to check if a number is prime or not\n",
    "\n",
    "# To take input from the user\n",
    "num = int(input(\"Enter a number: \"))\n",
    "\n",
    "# define a  variable\n",
    "S = False\n",
    "\n",
    "# prime numbers are greater than 1\n",
    "\n",
    "if num > 1:\n",
    "    # check for factors\n",
    "    for i in range(2, num):\n",
    "        if (num % i) == 0:\n",
    "            # if factor is found, set S to True\n",
    "            S = True\n",
    "            # break out of loop\n",
    "            break\n",
    "\n",
    "# check if flag is True\n",
    "if S:\n",
    "    print(num, \"is not a prime number\")\n",
    "else:\n",
    "    print(num, \"is a prime number\")"
   ]
  },
  {
   "cell_type": "markdown",
   "id": "00902749-9aba-4bcd-8f8b-d493469de858",
   "metadata": {},
   "source": [
    "# Text :"
   ]
  },
  {
   "cell_type": "markdown",
   "id": "e1f0699a-d3f9-4349-8e8d-9c1fb5903b5e",
   "metadata": {},
   "source": [
    "- **Check if Palindrome:**"
   ]
  },
  {
   "cell_type": "markdown",
   "id": "4a94a8fa-b95a-430f-b20b-fec78b2db816",
   "metadata": {},
   "source": [
    "- Check if the string entered by the user is  a palindrome.that is that it reads the same forwards as backward like \"racecar\""
   ]
  },
  {
   "cell_type": "code",
   "execution_count": 13,
   "id": "48e27203-63de-4022-b341-f858be33a20a",
   "metadata": {},
   "outputs": [
    {
     "name": "stdin",
     "output_type": "stream",
     "text": [
      "ENTER THE NAME OR NUMBER : \n",
      " malayalam\n"
     ]
    },
    {
     "name": "stdout",
     "output_type": "stream",
     "text": [
      "TRUE\n"
     ]
    }
   ],
   "source": [
    "def Palindrome(s):\n",
    "    return s == s[::-1]\n",
    "\n",
    "# Derive code :\n",
    "\n",
    "s =input(\"ENTER THE NAME OR NUMBER : \\n\")\n",
    "\n",
    "name = Palindrome(s)\n",
    "\n",
    "if name:\n",
    "    print(\"TRUE\")\n",
    "    \n",
    "else:\n",
    "    print(\"FALSE\")\n"
   ]
  },
  {
   "cell_type": "markdown",
   "id": "a9e61532-d332-482e-a06f-7734bef63d1e",
   "metadata": {},
   "source": [
    "# Classes :"
   ]
  },
  {
   "cell_type": "markdown",
   "id": "9190d741-747c-4d0f-9701-088f1d8de7f4",
   "metadata": {},
   "source": [
    "- **Product Inventory Project**:\n",
    "\n",
    "- Create an application which manages an inventory of products. Create a product class which has a price, id, and quantity on hand. Then create an inventory class which keeps track of various products and can sum up the inventory value."
   ]
  },
  {
   "cell_type": "code",
   "execution_count": null,
   "id": "11ba41ab-c18c-4f18-b1bc-69f93d3d70f8",
   "metadata": {},
   "outputs": [
    {
     "name": "stdout",
     "output_type": "stream",
     "text": [
      "5\n",
      " Product ID:1,name: colgate, price : 0,Quantity :7\n",
      "Error ! Product is not in the inventory.\n",
      "[1]\n"
     ]
    }
   ],
   "source": [
    "class Product:\n",
    "    def __init__(self,p_id,name,price,quantity):\n",
    "        \n",
    "        self.id = p_id\n",
    "        self.name = name\n",
    "        self.price = price\n",
    "        self.quantity = quantity\n",
    "    \n",
    "    def update_Price(self,new_price):\n",
    "        if new_price >0:\n",
    "            self.price = new_price\n",
    "        else:\n",
    "            print(\"Error ! Cannot update price to lower than or equal to Zero.\")\n",
    "            \n",
    "    def update_Quantity(self,new_quantity,Increment):\n",
    "        if Increment is True:\n",
    "            self.quantity += new_quantity\n",
    "        elif (self_quantity - new_quantiy) >= 0:\n",
    "            self.quantity -= nwe_quantity\n",
    "            \n",
    "        else:\n",
    "            print(\"Error ! Cannot reduce further !\")\n",
    "            \n",
    "    def get_Quantity(self):\n",
    "        return self.quantity\n",
    "    \n",
    "    def view_Product(self):\n",
    "        print(\" Product ID:\" + str(self.id) + \",name: \" + self.name  + \", price : \" + str(self.price)+\",Quantity :\" +str(self.quantity))\n",
    "              \n",
    "class Inventory:\n",
    "    def __init__(self):\n",
    "        self.list_product =[]\n",
    "              \n",
    "    def add_Product(self,p_id):\n",
    "        self.list_product.append(p_id)\n",
    "              \n",
    "    def remove_Product(self,p_id):\n",
    "        if p_id in self.list_product:\n",
    "             self.list_product.remove(p_id)\n",
    "        else:\n",
    "            print(\"Error ! Product is not in the inventory.\")\n",
    "    \n",
    "    def view_Inventory(self):\n",
    "        print(self.list_product)      \n",
    "              \n",
    "if __name__ == '__main__':\n",
    "    Product1 = Product(1,\"colgate\",220.20,5)\n",
    "    print (Product1.get_Quantity())\n",
    "    Product1.update_Quantity(2,True)\n",
    "    Product1.view_Product()\n",
    "              \n",
    "    invent1 = Inventory()\n",
    "    invent1.add_Product(1)\n",
    "    invent1.remove_Product(2)\n",
    "    invent1.view_Inventory()          \n",
    "        \n",
    "        "
   ]
  },
  {
   "cell_type": "markdown",
   "id": "0de56950-68a2-472c-8ca6-64526621792c",
   "metadata": {},
   "source": [
    "# Files :"
   ]
  },
  {
   "cell_type": "markdown",
   "id": "594cd040-edaf-4b94-8447-0067e7a81d50",
   "metadata": {},
   "source": [
    "- **Create Zip File Maker**\n",
    "\n",
    "- The user enters various files from different directories and the program zips them up into a zip file. Optional: Apply actual compression to the files. Start with Huffman Algorithm."
   ]
  },
  {
   "cell_type": "code",
   "execution_count": null,
   "id": "714277a6-9462-491d-af9c-964254183c79",
   "metadata": {},
   "outputs": [],
   "source": [
    "import os\n",
    "import datetime"
   ]
  },
  {
   "cell_type": "code",
   "execution_count": null,
   "id": "def1a791-c9a5-4428-a33c-161d0581fe48",
   "metadata": {},
   "outputs": [
    {
     "name": "stdout",
     "output_type": "stream",
     "text": [
      " BACKUP FAILED........\n"
     ]
    }
   ],
   "source": [
    "source_dir = ['/Users/sravh/python']\n",
    "upload_time = datetime.datetime.now().strftime(\"%Y-%m-%d\")\n",
    "target_dir = '/Users/sravh/python/backup'\n",
    "\n",
    "if not os.path.exists(target_dir):\n",
    "    os.makedirs(target_dir)\n",
    "    \n",
    "folder = os.path.join(target_dir,upload_time)\n",
    "file_name = folder + '.zip'\n",
    "zip_command =\"zip -qr '%s' %s\" % (folder,source_dir)\n",
    "\n",
    "# run zip  command\n",
    "\n",
    "if os.system(zip_command) == 0:\n",
    "    print(\" The file %s is SUCCESSFULLY zipped\" % filename)\n",
    "else:\n",
    "    print(\" BACKUP FAILED........\")\n",
    "    "
   ]
  },
  {
   "cell_type": "markdown",
   "id": "ba7dbb6b-a19e-462f-a989-07218ae2af95",
   "metadata": {},
   "source": [
    "# Web Scrapping :"
   ]
  },
  {
   "cell_type": "code",
   "execution_count": 6,
   "id": "997ca638-44fa-4f29-a6e8-07bc4a8f007e",
   "metadata": {},
   "outputs": [
    {
     "name": "stdin",
     "output_type": "stream",
     "text": [
      "Enter a number:  29\n"
     ]
    },
    {
     "name": "stdout",
     "output_type": "stream",
     "text": [
      "29 is a prime number\n"
     ]
    }
   ],
   "source": [
    "# Program to check if a number is prime or not\n",
    "\n",
    "# To take input from the user\n",
    "num = int(input(\"Enter a number: \"))\n",
    "\n",
    "# define a  variable\n",
    "S = False\n",
    "\n",
    "# prime numbers are greater than 1\n",
    "if num > 1:\n",
    "    # check for factors\n",
    "    for i in range(2, num):\n",
    "        if (num % i) == 0:\n",
    "            # if factor is found, set S to True\n",
    "            S = True\n",
    "            # break out of loop\n",
    "            break\n",
    "\n",
    "# check if flag is True\n",
    "if S:\n",
    "    print(num, \"is not a prime number\")\n",
    "else:\n",
    "    print(num, \"is a prime number\")"
   ]
  },
  {
   "cell_type": "code",
   "execution_count": 26,
   "id": "95b446db-6631-4922-a9d0-92986e48c2d7",
   "metadata": {},
   "outputs": [
    {
     "name": "stdin",
     "output_type": "stream",
     "text": [
      "Enter the Name of City ->   rajasthan\n"
     ]
    },
    {
     "name": "stdout",
     "output_type": "stream",
     "text": [
      "Searching...\n",
      "\n",
      "Jaipur, Rajasthan\n",
      "Saturday, 12:00 pm\n",
      "Haze\n",
      "36°C\n",
      "Have a Nice Day:)\n"
     ]
    }
   ],
   "source": [
    "from bs4 import BeautifulSoup\n",
    "import requests\n",
    "\n",
    "headers ={'User-Agent': 'Mozilla/5.0 (Windows NT 10.0; Win64; x64) AppleWebKit/537.36 (KHTML, like Gecko) Chrome/58.0.3029.110 Safari/537.3'}\n",
    " \n",
    "def weather(city):\n",
    "    city = city.replace(\" \", \"+\")\n",
    "    res = requests.get(\n",
    "        f'https://www.google.com/search?q={city}&oq={city}&aqs=chrome.0.35i39l2j0l4j46j69i60.6128j1j7&sourceid=chrome&ie=UTF-8', headers=headers)\n",
    "    print(\"Searching...\\n\")\n",
    "\n",
    "    soup = BeautifulSoup(res.text, 'html.parser')\n",
    "    location = soup.select('#wob_loc')[0].getText().strip()\n",
    "    time = soup.select('#wob_dts')[0].getText().strip()\n",
    "    info = soup.select('#wob_dc')[0].getText().strip()\n",
    "    weather = soup.select('#wob_tm')[0].getText().strip()\n",
    "    print(location)\n",
    "    print(time)\n",
    "    print(info)\n",
    "    print(weather+\"°C\")\n",
    "    \n",
    "city = input(\"Enter the Name of City ->  \")\n",
    "city = city+\" weather\"\n",
    "weather(city)\n",
    "print(\"Have a Nice Day:)\")"
   ]
  },
  {
   "cell_type": "code",
   "execution_count": null,
   "id": "85b8030c-ecae-4dd0-a870-4dc411a7d376",
   "metadata": {},
   "outputs": [],
   "source": []
  }
 ],
 "metadata": {
  "kernelspec": {
   "display_name": "Python 3 (ipykernel)",
   "language": "python",
   "name": "python3"
  },
  "language_info": {
   "codemirror_mode": {
    "name": "ipython",
    "version": 3
   },
   "file_extension": ".py",
   "mimetype": "text/x-python",
   "name": "python",
   "nbconvert_exporter": "python",
   "pygments_lexer": "ipython3",
   "version": "3.9.7"
  }
 },
 "nbformat": 4,
 "nbformat_minor": 5
}
